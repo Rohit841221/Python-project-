{
  "nbformat": 4,
  "nbformat_minor": 0,
  "metadata": {
    "colab": {
      "provenance": [],
      "authorship_tag": "ABX9TyNCAtH+wY525d6o5A9G5VQp",
      "include_colab_link": true
    },
    "kernelspec": {
      "name": "python3",
      "display_name": "Python 3"
    },
    "language_info": {
      "name": "python"
    }
  },
  "cells": [
    {
      "cell_type": "markdown",
      "metadata": {
        "id": "view-in-github",
        "colab_type": "text"
      },
      "source": [
        "<a href=\"https://colab.research.google.com/github/Rohit841221/Python-project-/blob/main/student%20marks%20anylysis%20.ipynb\" target=\"_parent\"><img src=\"https://colab.research.google.com/assets/colab-badge.svg\" alt=\"Open In Colab\"/></a>"
      ]
    },
    {
      "cell_type": "code",
      "execution_count": null,
      "metadata": {
        "id": "2l7vrZbkFAQE"
      },
      "outputs": [],
      "source": [
        "import numpy as np\n",
        "\n",
        "# Step 1: Input from user\n",
        "num_students = int(input(\"Enter number of students: \"))\n",
        "num_subjects = int(input(\"Enter number of subjects: \"))\n",
        "\n",
        "# Step 2: Initialize empty marks array\n",
        "marks = np.zeros((num_students, num_subjects))\n",
        "\n",
        "# Step 3: Get input marks from user\n",
        "for i in range(num_students):\n",
        "    print(f\"\\nEnter marks for Student {i+1}:\")\n",
        "    for j in range(num_subjects):\n",
        "        marks[i][j] = float(input(f\"  Subject {j+1} marks: \"))\n",
        "\n",
        "# Step 4: Average marks\n",
        "student_avg = np.mean(marks, axis=1)\n",
        "print(\"\\nAverage marks of each student:\")\n",
        "print(student_avg)\n",
        "\n",
        "# Step 5: Max/Min in each subject\n",
        "print(\"\\nHighest marks in each subject:\")\n",
        "print(np.max(marks, axis=0))\n",
        "\n",
        "print(\"\\nLowest marks in each subject:\")\n",
        "print(np.min(marks, axis=0))\n",
        "\n",
        "# Step 6: Pass/Fail status (assuming pass mark = 40)\n",
        "pass_fail = marks >= 40\n",
        "pass_count = np.sum(pass_fail, axis=1)\n",
        "\n",
        "print(\"\\nSubjects passed by each student:\")\n",
        "print(pass_count)\n",
        "\n",
        "print(\"\\nFinal Result:\")\n",
        "for i, count in enumerate(pass_count):\n",
        "    result = \"Pass\" if count == num_subjects else \"Fail\"\n",
        "    print(f\"Student {i+1}: {result}\")"
      ]
    }
  ]
}